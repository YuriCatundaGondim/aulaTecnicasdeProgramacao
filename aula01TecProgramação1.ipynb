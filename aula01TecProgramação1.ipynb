{
  "nbformat": 4,
  "nbformat_minor": 0,
  "metadata": {
    "colab": {
      "provenance": [],
      "authorship_tag": "ABX9TyPJiOB4wnBQYDqdIOA7JLEY",
      "include_colab_link": true
    },
    "kernelspec": {
      "name": "python3",
      "display_name": "Python 3"
    },
    "language_info": {
      "name": "python"
    }
  },
  "cells": [
    {
      "cell_type": "markdown",
      "metadata": {
        "id": "view-in-github",
        "colab_type": "text"
      },
      "source": [
        "<a href=\"https://colab.research.google.com/github/YuriCatundaGondim/aulaTecnicasdeProgramacao/blob/main/aula01TecPrograma%C3%A7%C3%A3o1.ipynb\" target=\"_parent\"><img src=\"https://colab.research.google.com/assets/colab-badge.svg\" alt=\"Open In Colab\"/></a>"
      ]
    },
    {
      "cell_type": "markdown",
      "source": [
        "Crie um array unidimensional com números inteiros distribuídos de maneira aleatória de 1 a 100, e filtre apenas os números maiores ou iguais a 50."
      ],
      "metadata": {
        "id": "xEoRGfLgic56"
      }
    },
    {
      "cell_type": "code",
      "execution_count": 42,
      "metadata": {
        "colab": {
          "base_uri": "https://localhost:8080/"
        },
        "id": "-jqi_moBiYzL",
        "outputId": "e605d77e-5971-44e8-cf9b-1917b1c58b1b"
      },
      "outputs": [
        {
          "output_type": "execute_result",
          "data": {
            "text/plain": [
              "array([ 84,  52,  82,  53,  76,  92,  71,  93,  69,  60,  92,  60,  51,\n",
              "        79,  76,  76,  82,  62,  81,  56,  70,  71,  77,  52,  60,  97,\n",
              "        67,  56,  71,  90,  76,  98,  64,  84,  91,  53,  91,  70,  77,\n",
              "        97, 100,  90,  70,  93,  91,  78,  97,  82,  64,  92,  71,  61,\n",
              "        77,  96])"
            ]
          },
          "metadata": {},
          "execution_count": 42
        }
      ],
      "source": [
        "import numpy as np\n",
        "num = np.random.randint(0, 101, 100)\n",
        "num[num>=50]"
      ]
    },
    {
      "cell_type": "markdown",
      "source": [
        "Crie um array 1-dimensional (com 100 elementos) com números reais (float) aleatórios, e retorne as seguintes métricas:\n",
        "média\n",
        "mediana\n",
        "desvio padrão\n",
        "máximo\n",
        "mínimo\n",
        "índice do elemento máximo\n",
        "indice do elemento mínimo"
      ],
      "metadata": {
        "id": "eghLAPuNifDC"
      }
    },
    {
      "cell_type": "code",
      "source": [
        "num = np.round((np.random.randn(100)*100), 2)\n",
        "num_reais  = np.where(num >= 0, num, (num*-1))\n",
        "print(f'mínimo: {min(num_reais)}')\n",
        "print(f'máximo: {max(num_reais)}')\n",
        "print(f'índice do máximo: {num_reais.argmax()}')\n",
        "print(f'índice do mínimo: {num_reais.argmin()}')\n",
        "print(f'média: {np.round(num_reais.mean())}')\n",
        "print(f'desvio padrão: {np.round(num_reais.std(), 2)}')\n",
        "print(f'mediana: {np.median(num_reais)}')\n",
        "\n"
      ],
      "metadata": {
        "colab": {
          "base_uri": "https://localhost:8080/"
        },
        "id": "pZmVvmKoiimB",
        "outputId": "f1d88754-5546-4d22-e030-002b431a906f"
      },
      "execution_count": 80,
      "outputs": [
        {
          "output_type": "stream",
          "name": "stdout",
          "text": [
            "mínimo: 0.65\n",
            "máximo: 208.07\n",
            "índice do máximo: 22\n",
            "índice do mínimo: 89\n",
            "média: 78.0\n",
            "desvio padrão: 54.79\n",
            "mediana: 66.94\n"
          ]
        }
      ]
    },
    {
      "cell_type": "markdown",
      "source": [
        "Crie uma array 2-dimensional (10x5) com números reais (float) aleatórios, e retorne as seguintes métricas:\n",
        "média\n",
        "mediana\n",
        "desvio padrão\n",
        "máximo\n",
        "mínimo\n",
        "índice do elemento máximo\n",
        "indice do elemento mínimo"
      ],
      "metadata": {
        "id": "icJ5QmT2ijMg"
      }
    },
    {
      "cell_type": "code",
      "source": [
        "arr2 = np.random.rand(50)\n",
        "matriz = arr2.reshape((10, 5))\n",
        "print(matriz)\n",
        "print(f\"media: {matriz.mean()}\")\n",
        "print(f\"mediana: {np.median(matriz)}\")\n",
        "print(f\"desvio padrão: {matriz.std()}\")\n",
        "print(f\"máximo: {matriz.max()}\")\n",
        "print(f\"mínimo: {matriz.min()}\")\n",
        "print(f\"indice do max: {matriz.argmax()}\")\n",
        "print(f\"indice do min: {matriz.argmin()}\")"
      ],
      "metadata": {
        "colab": {
          "base_uri": "https://localhost:8080/"
        },
        "id": "bykq-gjzimr1",
        "outputId": "67484770-fd9a-4ec0-afc7-17aeb5960971"
      },
      "execution_count": 111,
      "outputs": [
        {
          "output_type": "stream",
          "name": "stdout",
          "text": [
            "[[0.31207704 0.42450933 0.79035408 0.08648779 0.38496847]\n",
            " [0.74426841 0.43409371 0.29535213 0.01952736 0.29894401]\n",
            " [0.22549281 0.74503303 0.96695963 0.88594611 0.70919444]\n",
            " [0.87258194 0.10514004 0.28700093 0.57220149 0.14803106]\n",
            " [0.48791942 0.5934374  0.85475838 0.91974405 0.80545072]\n",
            " [0.85339561 0.40430792 0.01776807 0.29046237 0.36189849]\n",
            " [0.09128659 0.29587881 0.67675255 0.82976984 0.71913312]\n",
            " [0.58699989 0.65350223 0.26245731 0.95902788 0.67478272]\n",
            " [0.01971008 0.92901482 0.25030035 0.75033541 0.27958441]\n",
            " [0.23009183 0.29489103 0.83642263 0.70300892 0.43878359]]\n",
            "media: 0.5075808050003174\n",
            "mediana: 0.46335150298431843\n",
            "desvio padrão: 0.28705097086665043\n",
            "máximo: 0.9669596322299364\n",
            "mínimo: 0.017768066006470074\n",
            "indice do max: 12\n",
            "indice do min: 27\n"
          ]
        }
      ]
    },
    {
      "cell_type": "markdown",
      "source": [
        "Crie um array 1-dimensional com 100 inteiros aleatórios de 0 a 1000, e substitua cada valor ímpar por -1."
      ],
      "metadata": {
        "id": "i8bTZFdOinPG"
      }
    },
    {
      "cell_type": "code",
      "source": [
        "num = np.random.randint(0, 1001, 100)\n",
        "num[num %2 != 0] = -1 # mesma coisa que np.where(num %2 == 0, num, -1))\n",
        "num"
      ],
      "metadata": {
        "id": "XCjNY1Cciq6I"
      },
      "execution_count": null,
      "outputs": []
    }
  ]
}